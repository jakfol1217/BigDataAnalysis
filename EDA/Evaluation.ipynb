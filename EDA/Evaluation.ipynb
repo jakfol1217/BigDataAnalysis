{
 "cells": [
  {
   "cell_type": "code",
   "execution_count": 12,
   "id": "69002109",
   "metadata": {},
   "outputs": [],
   "source": [
    "import pandas as pd\n",
    "import numpy as np\n",
    "import matplotlib.pyplot as plt\n",
    "import json"
   ]
  },
  {
   "cell_type": "code",
   "execution_count": 51,
   "id": "a7c3b315",
   "metadata": {},
   "outputs": [],
   "source": [
    "df = pd.read_csv(\"data.csv\", header=None, dtype=str)\n",
    "df[1] = df[1].astype(int)\n",
    "df = df[df[1] >= 0]"
   ]
  },
  {
   "cell_type": "code",
   "execution_count": 59,
   "id": "272dae70",
   "metadata": {},
   "outputs": [],
   "source": [
    "df = df[np.array([type(el) for el in df[0]]) != float]"
   ]
  },
  {
   "cell_type": "code",
   "execution_count": 63,
   "id": "e19a7857",
   "metadata": {},
   "outputs": [],
   "source": [
    "X = np.array([el for el in df[0].apply(json.loads)])\n",
    "y = df[1]"
   ]
  },
  {
   "cell_type": "code",
   "execution_count": 64,
   "id": "8f23b781",
   "metadata": {},
   "outputs": [],
   "source": [
    "from sklearn.metrics import silhouette_score, davies_bouldin_score, calinski_harabasz_score"
   ]
  },
  {
   "cell_type": "code",
   "execution_count": 65,
   "id": "1310da6b",
   "metadata": {},
   "outputs": [
    {
     "data": {
      "text/plain": [
       "-0.09719795095164983"
      ]
     },
     "execution_count": 65,
     "metadata": {},
     "output_type": "execute_result"
    }
   ],
   "source": [
    "silhouette_score(X, y)"
   ]
  },
  {
   "cell_type": "code",
   "execution_count": 66,
   "id": "0edbd830",
   "metadata": {},
   "outputs": [
    {
     "data": {
      "text/plain": [
       "5.5847304887267075"
      ]
     },
     "execution_count": 66,
     "metadata": {},
     "output_type": "execute_result"
    }
   ],
   "source": [
    "davies_bouldin_score(X, y)"
   ]
  },
  {
   "cell_type": "code",
   "execution_count": 67,
   "id": "88a00caa",
   "metadata": {},
   "outputs": [
    {
     "data": {
      "text/plain": [
       "1.0433926783440048"
      ]
     },
     "execution_count": 67,
     "metadata": {},
     "output_type": "execute_result"
    }
   ],
   "source": [
    "calinski_harabasz_score(X, y)"
   ]
  },
  {
   "cell_type": "code",
   "execution_count": null,
   "id": "0034fb6b",
   "metadata": {},
   "outputs": [],
   "source": []
  }
 ],
 "metadata": {
  "kernelspec": {
   "display_name": "Python 3 (ipykernel)",
   "language": "python",
   "name": "python3"
  },
  "language_info": {
   "codemirror_mode": {
    "name": "ipython",
    "version": 3
   },
   "file_extension": ".py",
   "mimetype": "text/x-python",
   "name": "python",
   "nbconvert_exporter": "python",
   "pygments_lexer": "ipython3",
   "version": "3.10.10"
  }
 },
 "nbformat": 4,
 "nbformat_minor": 5
}
