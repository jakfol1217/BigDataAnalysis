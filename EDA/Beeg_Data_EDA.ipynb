{
 "cells": [
  {
   "cell_type": "code",
   "execution_count": 1,
   "id": "afd268ab",
   "metadata": {},
   "outputs": [],
   "source": [
    "import pandas as pd\n",
    "import numpy as np\n",
    "import matplotlib.pyplot as plt\n",
    "import os\n",
    "import json"
   ]
  },
  {
   "cell_type": "markdown",
   "id": "aa17876e",
   "metadata": {},
   "source": [
    "We have combined data that have been collected through the entire day from the Master Log GCP Bucket. The data comes from 01-04-2024 and 01-05-2024."
   ]
  },
  {
   "cell_type": "code",
   "execution_count": 2,
   "id": "b6b07e14",
   "metadata": {},
   "outputs": [],
   "source": [
    "PATH = 'EDA_files/'"
   ]
  },
  {
   "cell_type": "code",
   "execution_count": 3,
   "id": "13c9e654",
   "metadata": {},
   "outputs": [],
   "source": [
    "def EDA_file_generator(path):\n",
    "    for file in os.listdir(path):\n",
    "        if file.endswith('.json'):\n",
    "            yield file"
   ]
  },
  {
   "cell_type": "code",
   "execution_count": 4,
   "id": "8aaca6bc",
   "metadata": {},
   "outputs": [
    {
     "data": {
      "application/vnd.jupyter.widget-view+json": {
       "model_id": "cfb1ee443d424c4082324c6868d6d694",
       "version_major": 2,
       "version_minor": 0
      },
      "text/plain": [
       "  0%|          | 0/52770 [00:00<?, ?it/s]"
      ]
     },
     "metadata": {},
     "output_type": "display_data"
    }
   ],
   "source": [
    "# Loading data\n",
    "eda_gen = EDA_file_generator(PATH)\n",
    "\n",
    "for i, file in enumerate(eda_gen):\n",
    "    if i == 1:\n",
    "        break\n",
    "    df_eda = pd.DataFrame(pd.read_json(PATH+file, typ='series')).transpose()\n",
    "    \n",
    "num_files = len(os.listdir(PATH)) - 1\n",
    "\n",
    "from tqdm.auto import tqdm\n",
    "\n",
    "for file in tqdm(eda_gen, total=num_files):\n",
    "    df = pd.DataFrame(pd.read_json(PATH+file, typ='series')).transpose()\n",
    "    df_eda = pd.concat([df_eda, df])"
   ]
  },
  {
   "cell_type": "code",
   "execution_count": 183,
   "id": "024bc8fa",
   "metadata": {},
   "outputs": [],
   "source": [
    "df_eda = df_eda.reset_index()"
   ]
  },
  {
   "cell_type": "code",
   "execution_count": 5,
   "id": "64738af3",
   "metadata": {},
   "outputs": [
    {
     "data": {
      "text/plain": [
       "(52764, 7)"
      ]
     },
     "execution_count": 5,
     "metadata": {},
     "output_type": "execute_result"
    }
   ],
   "source": [
    "df_eda.shape"
   ]
  },
  {
   "cell_type": "code",
   "execution_count": 6,
   "id": "2b08667d",
   "metadata": {},
   "outputs": [
    {
     "data": {
      "text/html": [
       "<div>\n",
       "<style scoped>\n",
       "    .dataframe tbody tr th:only-of-type {\n",
       "        vertical-align: middle;\n",
       "    }\n",
       "\n",
       "    .dataframe tbody tr th {\n",
       "        vertical-align: top;\n",
       "    }\n",
       "\n",
       "    .dataframe thead th {\n",
       "        text-align: right;\n",
       "    }\n",
       "</style>\n",
       "<table border=\"1\" class=\"dataframe\">\n",
       "  <thead>\n",
       "    <tr style=\"text-align: right;\">\n",
       "      <th></th>\n",
       "      <th>global_id</th>\n",
       "      <th>author</th>\n",
       "      <th>created_time</th>\n",
       "      <th>desc</th>\n",
       "      <th>score</th>\n",
       "      <th>url</th>\n",
       "      <th>source</th>\n",
       "    </tr>\n",
       "  </thead>\n",
       "  <tbody>\n",
       "    <tr>\n",
       "      <th>0</th>\n",
       "      <td>02Zyk8U-imgur</td>\n",
       "      <td>AzrielStrife</td>\n",
       "      <td>2024-01-04T21:13:08</td>\n",
       "      <td>The Fly https://youtu.be/ECFAMTEnvqw?si=s5tePl...</td>\n",
       "      <td>3</td>\n",
       "      <td>https://i.imgur.com/02Zyk8U.jpg</td>\n",
       "      <td>imgur</td>\n",
       "    </tr>\n",
       "    <tr>\n",
       "      <th>0</th>\n",
       "      <td>02Zyk8U-imgur</td>\n",
       "      <td>AzrielStrife</td>\n",
       "      <td>2024-01-04T21:13:08</td>\n",
       "      <td>The Fly https://youtu.be/ECFAMTEnvqw?si=s5tePl...</td>\n",
       "      <td>3</td>\n",
       "      <td>https://i.imgur.com/02Zyk8U.jpg</td>\n",
       "      <td>imgur</td>\n",
       "    </tr>\n",
       "    <tr>\n",
       "      <th>0</th>\n",
       "      <td>02Zyk8U-imgur</td>\n",
       "      <td>AzrielStrife</td>\n",
       "      <td>2024-01-04T21:13:08</td>\n",
       "      <td>The Fly https://youtu.be/ECFAMTEnvqw?si=s5tePl...</td>\n",
       "      <td>3</td>\n",
       "      <td>https://i.imgur.com/02Zyk8U.jpg</td>\n",
       "      <td>imgur</td>\n",
       "    </tr>\n",
       "    <tr>\n",
       "      <th>0</th>\n",
       "      <td>02Zyk8U-imgur</td>\n",
       "      <td>AzrielStrife</td>\n",
       "      <td>2024-01-04T21:13:08</td>\n",
       "      <td>The Fly https://youtu.be/ECFAMTEnvqw?si=s5tePl...</td>\n",
       "      <td>3</td>\n",
       "      <td>https://i.imgur.com/02Zyk8U.jpg</td>\n",
       "      <td>imgur</td>\n",
       "    </tr>\n",
       "    <tr>\n",
       "      <th>0</th>\n",
       "      <td>02Zyk8U-imgur</td>\n",
       "      <td>AzrielStrife</td>\n",
       "      <td>2024-01-04T21:13:08</td>\n",
       "      <td>The Fly https://youtu.be/ECFAMTEnvqw?si=s5tePl...</td>\n",
       "      <td>3</td>\n",
       "      <td>https://i.imgur.com/02Zyk8U.jpg</td>\n",
       "      <td>imgur</td>\n",
       "    </tr>\n",
       "  </tbody>\n",
       "</table>\n",
       "</div>"
      ],
      "text/plain": [
       "       global_id        author         created_time  \\\n",
       "0  02Zyk8U-imgur  AzrielStrife  2024-01-04T21:13:08   \n",
       "0  02Zyk8U-imgur  AzrielStrife  2024-01-04T21:13:08   \n",
       "0  02Zyk8U-imgur  AzrielStrife  2024-01-04T21:13:08   \n",
       "0  02Zyk8U-imgur  AzrielStrife  2024-01-04T21:13:08   \n",
       "0  02Zyk8U-imgur  AzrielStrife  2024-01-04T21:13:08   \n",
       "\n",
       "                                                desc score  \\\n",
       "0  The Fly https://youtu.be/ECFAMTEnvqw?si=s5tePl...     3   \n",
       "0  The Fly https://youtu.be/ECFAMTEnvqw?si=s5tePl...     3   \n",
       "0  The Fly https://youtu.be/ECFAMTEnvqw?si=s5tePl...     3   \n",
       "0  The Fly https://youtu.be/ECFAMTEnvqw?si=s5tePl...     3   \n",
       "0  The Fly https://youtu.be/ECFAMTEnvqw?si=s5tePl...     3   \n",
       "\n",
       "                               url source  \n",
       "0  https://i.imgur.com/02Zyk8U.jpg  imgur  \n",
       "0  https://i.imgur.com/02Zyk8U.jpg  imgur  \n",
       "0  https://i.imgur.com/02Zyk8U.jpg  imgur  \n",
       "0  https://i.imgur.com/02Zyk8U.jpg  imgur  \n",
       "0  https://i.imgur.com/02Zyk8U.jpg  imgur  "
      ]
     },
     "execution_count": 6,
     "metadata": {},
     "output_type": "execute_result"
    }
   ],
   "source": [
    "# All the files\n",
    "\n",
    "df_eda.head()"
   ]
  },
  {
   "cell_type": "code",
   "execution_count": 186,
   "id": "9ec306bc",
   "metadata": {},
   "outputs": [],
   "source": [
    "df_eda_no_d = df_eda.drop_duplicates('global_id').reset_index()"
   ]
  },
  {
   "cell_type": "code",
   "execution_count": 187,
   "id": "b6870b80",
   "metadata": {},
   "outputs": [
    {
     "data": {
      "text/html": [
       "<div>\n",
       "<style scoped>\n",
       "    .dataframe tbody tr th:only-of-type {\n",
       "        vertical-align: middle;\n",
       "    }\n",
       "\n",
       "    .dataframe tbody tr th {\n",
       "        vertical-align: top;\n",
       "    }\n",
       "\n",
       "    .dataframe thead th {\n",
       "        text-align: right;\n",
       "    }\n",
       "</style>\n",
       "<table border=\"1\" class=\"dataframe\">\n",
       "  <thead>\n",
       "    <tr style=\"text-align: right;\">\n",
       "      <th></th>\n",
       "      <th>level_0</th>\n",
       "      <th>index</th>\n",
       "      <th>global_id</th>\n",
       "      <th>author</th>\n",
       "      <th>created_time</th>\n",
       "      <th>desc</th>\n",
       "      <th>score</th>\n",
       "      <th>url</th>\n",
       "      <th>source</th>\n",
       "    </tr>\n",
       "  </thead>\n",
       "  <tbody>\n",
       "    <tr>\n",
       "      <th>0</th>\n",
       "      <td>0</td>\n",
       "      <td>0</td>\n",
       "      <td>02Zyk8U-imgur</td>\n",
       "      <td>AzrielStrife</td>\n",
       "      <td>2024-01-04T21:13:08</td>\n",
       "      <td>The Fly https://youtu.be/ECFAMTEnvqw?si=s5tePl...</td>\n",
       "      <td>3</td>\n",
       "      <td>https://i.imgur.com/02Zyk8U.jpg</td>\n",
       "      <td>imgur</td>\n",
       "    </tr>\n",
       "    <tr>\n",
       "      <th>1</th>\n",
       "      <td>5</td>\n",
       "      <td>0</td>\n",
       "      <td>04FNenk-imgur</td>\n",
       "      <td>Tinkywink</td>\n",
       "      <td>2024-01-05T00:33:49</td>\n",
       "      <td>None</td>\n",
       "      <td>6</td>\n",
       "      <td>https://i.imgur.com/04FNenk.jpg</td>\n",
       "      <td>imgur</td>\n",
       "    </tr>\n",
       "    <tr>\n",
       "      <th>2</th>\n",
       "      <td>10</td>\n",
       "      <td>0</td>\n",
       "      <td>0at1r90-imgur</td>\n",
       "      <td>linexnewt</td>\n",
       "      <td>2024-01-04T23:16:24</td>\n",
       "      <td>Music by Queen</td>\n",
       "      <td>4</td>\n",
       "      <td>https://i.imgur.com/0at1r90.jpg</td>\n",
       "      <td>imgur</td>\n",
       "    </tr>\n",
       "    <tr>\n",
       "      <th>3</th>\n",
       "      <td>15</td>\n",
       "      <td>0</td>\n",
       "      <td>0BoiFPH-imgur</td>\n",
       "      <td>jensyao</td>\n",
       "      <td>2024-01-04T01:45:11</td>\n",
       "      <td>None</td>\n",
       "      <td>-3</td>\n",
       "      <td>https://i.imgur.com/0BoiFPH.jpg</td>\n",
       "      <td>imgur</td>\n",
       "    </tr>\n",
       "    <tr>\n",
       "      <th>4</th>\n",
       "      <td>21</td>\n",
       "      <td>0</td>\n",
       "      <td>0BTHRI5-imgur</td>\n",
       "      <td>VanessaBludgeons</td>\n",
       "      <td>2024-01-05T06:54:57</td>\n",
       "      <td>Poster for the series V</td>\n",
       "      <td>3</td>\n",
       "      <td>https://i.imgur.com/0BTHRI5.jpg</td>\n",
       "      <td>imgur</td>\n",
       "    </tr>\n",
       "    <tr>\n",
       "      <th>...</th>\n",
       "      <td>...</td>\n",
       "      <td>...</td>\n",
       "      <td>...</td>\n",
       "      <td>...</td>\n",
       "      <td>...</td>\n",
       "      <td>...</td>\n",
       "      <td>...</td>\n",
       "      <td>...</td>\n",
       "      <td>...</td>\n",
       "    </tr>\n",
       "    <tr>\n",
       "      <th>2403</th>\n",
       "      <td>52699</td>\n",
       "      <td>0</td>\n",
       "      <td>ZYtYXRE-imgur</td>\n",
       "      <td>rybe390</td>\n",
       "      <td>2024-01-04T14:01:36</td>\n",
       "      <td>Paint the brown</td>\n",
       "      <td>-1</td>\n",
       "      <td>https://i.imgur.com/ZYtYXRE.jpg</td>\n",
       "      <td>imgur</td>\n",
       "    </tr>\n",
       "    <tr>\n",
       "      <th>2404</th>\n",
       "      <td>52705</td>\n",
       "      <td>0</td>\n",
       "      <td>ZYvkkJl-imgur</td>\n",
       "      <td>monjamon</td>\n",
       "      <td>2024-01-04T19:07:19</td>\n",
       "      <td>Taking a break after a little training session...</td>\n",
       "      <td>7</td>\n",
       "      <td>https://i.imgur.com/ZYvkkJl.jpg</td>\n",
       "      <td>imgur</td>\n",
       "    </tr>\n",
       "    <tr>\n",
       "      <th>2405</th>\n",
       "      <td>52711</td>\n",
       "      <td>0</td>\n",
       "      <td>zZ0NDm3-imgur</td>\n",
       "      <td>TinkerThinker42</td>\n",
       "      <td>2024-01-04T05:21:07</td>\n",
       "      <td>Welcome to Day 1078.\\n\\nToday in one sentence:...</td>\n",
       "      <td>2</td>\n",
       "      <td>https://i.imgur.com/zZ0NDm3.png</td>\n",
       "      <td>imgur</td>\n",
       "    </tr>\n",
       "    <tr>\n",
       "      <th>2406</th>\n",
       "      <td>52723</td>\n",
       "      <td>0</td>\n",
       "      <td>ZZqmxW1-imgur</td>\n",
       "      <td>hutaoimpact</td>\n",
       "      <td>2024-01-04T04:49:15</td>\n",
       "      <td>None</td>\n",
       "      <td>4</td>\n",
       "      <td>https://i.imgur.com/ZZqmxW1.jpg</td>\n",
       "      <td>imgur</td>\n",
       "    </tr>\n",
       "    <tr>\n",
       "      <th>2407</th>\n",
       "      <td>52758</td>\n",
       "      <td>0</td>\n",
       "      <td>zzUp4RU-imgur</td>\n",
       "      <td>cxmxxiii</td>\n",
       "      <td>2024-01-04T17:39:00</td>\n",
       "      <td>None</td>\n",
       "      <td>1</td>\n",
       "      <td>https://i.imgur.com/zzUp4RU.jpg</td>\n",
       "      <td>imgur</td>\n",
       "    </tr>\n",
       "  </tbody>\n",
       "</table>\n",
       "<p>2408 rows × 9 columns</p>\n",
       "</div>"
      ],
      "text/plain": [
       "      level_0  index      global_id            author         created_time  \\\n",
       "0           0      0  02Zyk8U-imgur      AzrielStrife  2024-01-04T21:13:08   \n",
       "1           5      0  04FNenk-imgur         Tinkywink  2024-01-05T00:33:49   \n",
       "2          10      0  0at1r90-imgur         linexnewt  2024-01-04T23:16:24   \n",
       "3          15      0  0BoiFPH-imgur           jensyao  2024-01-04T01:45:11   \n",
       "4          21      0  0BTHRI5-imgur  VanessaBludgeons  2024-01-05T06:54:57   \n",
       "...       ...    ...            ...               ...                  ...   \n",
       "2403    52699      0  ZYtYXRE-imgur           rybe390  2024-01-04T14:01:36   \n",
       "2404    52705      0  ZYvkkJl-imgur          monjamon  2024-01-04T19:07:19   \n",
       "2405    52711      0  zZ0NDm3-imgur   TinkerThinker42  2024-01-04T05:21:07   \n",
       "2406    52723      0  ZZqmxW1-imgur       hutaoimpact  2024-01-04T04:49:15   \n",
       "2407    52758      0  zzUp4RU-imgur          cxmxxiii  2024-01-04T17:39:00   \n",
       "\n",
       "                                                   desc score  \\\n",
       "0     The Fly https://youtu.be/ECFAMTEnvqw?si=s5tePl...     3   \n",
       "1                                                  None     6   \n",
       "2                                        Music by Queen     4   \n",
       "3                                                  None    -3   \n",
       "4                               Poster for the series V     3   \n",
       "...                                                 ...   ...   \n",
       "2403                                    Paint the brown    -1   \n",
       "2404  Taking a break after a little training session...     7   \n",
       "2405  Welcome to Day 1078.\\n\\nToday in one sentence:...     2   \n",
       "2406                                               None     4   \n",
       "2407                                               None     1   \n",
       "\n",
       "                                  url source  \n",
       "0     https://i.imgur.com/02Zyk8U.jpg  imgur  \n",
       "1     https://i.imgur.com/04FNenk.jpg  imgur  \n",
       "2     https://i.imgur.com/0at1r90.jpg  imgur  \n",
       "3     https://i.imgur.com/0BoiFPH.jpg  imgur  \n",
       "4     https://i.imgur.com/0BTHRI5.jpg  imgur  \n",
       "...                               ...    ...  \n",
       "2403  https://i.imgur.com/ZYtYXRE.jpg  imgur  \n",
       "2404  https://i.imgur.com/ZYvkkJl.jpg  imgur  \n",
       "2405  https://i.imgur.com/zZ0NDm3.png  imgur  \n",
       "2406  https://i.imgur.com/ZZqmxW1.jpg  imgur  \n",
       "2407  https://i.imgur.com/zzUp4RU.jpg  imgur  \n",
       "\n",
       "[2408 rows x 9 columns]"
      ]
     },
     "execution_count": 187,
     "metadata": {},
     "output_type": "execute_result"
    }
   ],
   "source": [
    "df_eda_no_d"
   ]
  },
  {
   "cell_type": "code",
   "execution_count": 10,
   "id": "c5cca64a",
   "metadata": {},
   "outputs": [
    {
     "data": {
      "text/html": [
       "<div>\n",
       "<style scoped>\n",
       "    .dataframe tbody tr th:only-of-type {\n",
       "        vertical-align: middle;\n",
       "    }\n",
       "\n",
       "    .dataframe tbody tr th {\n",
       "        vertical-align: top;\n",
       "    }\n",
       "\n",
       "    .dataframe thead th {\n",
       "        text-align: right;\n",
       "    }\n",
       "</style>\n",
       "<table border=\"1\" class=\"dataframe\">\n",
       "  <thead>\n",
       "    <tr style=\"text-align: right;\">\n",
       "      <th></th>\n",
       "      <th>global_id</th>\n",
       "      <th>author</th>\n",
       "      <th>created_time</th>\n",
       "      <th>desc</th>\n",
       "      <th>score</th>\n",
       "      <th>url</th>\n",
       "      <th>source</th>\n",
       "    </tr>\n",
       "  </thead>\n",
       "  <tbody>\n",
       "    <tr>\n",
       "      <th>0</th>\n",
       "      <td>02Zyk8U-imgur</td>\n",
       "      <td>AzrielStrife</td>\n",
       "      <td>2024-01-04T21:13:08</td>\n",
       "      <td>The Fly https://youtu.be/ECFAMTEnvqw?si=s5tePl...</td>\n",
       "      <td>3</td>\n",
       "      <td>https://i.imgur.com/02Zyk8U.jpg</td>\n",
       "      <td>imgur</td>\n",
       "    </tr>\n",
       "    <tr>\n",
       "      <th>0</th>\n",
       "      <td>04FNenk-imgur</td>\n",
       "      <td>Tinkywink</td>\n",
       "      <td>2024-01-05T00:33:49</td>\n",
       "      <td>None</td>\n",
       "      <td>6</td>\n",
       "      <td>https://i.imgur.com/04FNenk.jpg</td>\n",
       "      <td>imgur</td>\n",
       "    </tr>\n",
       "    <tr>\n",
       "      <th>0</th>\n",
       "      <td>0at1r90-imgur</td>\n",
       "      <td>linexnewt</td>\n",
       "      <td>2024-01-04T23:16:24</td>\n",
       "      <td>Music by Queen</td>\n",
       "      <td>4</td>\n",
       "      <td>https://i.imgur.com/0at1r90.jpg</td>\n",
       "      <td>imgur</td>\n",
       "    </tr>\n",
       "    <tr>\n",
       "      <th>0</th>\n",
       "      <td>0BoiFPH-imgur</td>\n",
       "      <td>jensyao</td>\n",
       "      <td>2024-01-04T01:45:11</td>\n",
       "      <td>None</td>\n",
       "      <td>-3</td>\n",
       "      <td>https://i.imgur.com/0BoiFPH.jpg</td>\n",
       "      <td>imgur</td>\n",
       "    </tr>\n",
       "    <tr>\n",
       "      <th>0</th>\n",
       "      <td>0BTHRI5-imgur</td>\n",
       "      <td>VanessaBludgeons</td>\n",
       "      <td>2024-01-05T06:54:57</td>\n",
       "      <td>Poster for the series V</td>\n",
       "      <td>3</td>\n",
       "      <td>https://i.imgur.com/0BTHRI5.jpg</td>\n",
       "      <td>imgur</td>\n",
       "    </tr>\n",
       "    <tr>\n",
       "      <th>...</th>\n",
       "      <td>...</td>\n",
       "      <td>...</td>\n",
       "      <td>...</td>\n",
       "      <td>...</td>\n",
       "      <td>...</td>\n",
       "      <td>...</td>\n",
       "      <td>...</td>\n",
       "    </tr>\n",
       "    <tr>\n",
       "      <th>0</th>\n",
       "      <td>ZYtYXRE-imgur</td>\n",
       "      <td>rybe390</td>\n",
       "      <td>2024-01-04T14:01:36</td>\n",
       "      <td>Paint the brown</td>\n",
       "      <td>-1</td>\n",
       "      <td>https://i.imgur.com/ZYtYXRE.jpg</td>\n",
       "      <td>imgur</td>\n",
       "    </tr>\n",
       "    <tr>\n",
       "      <th>0</th>\n",
       "      <td>ZYvkkJl-imgur</td>\n",
       "      <td>monjamon</td>\n",
       "      <td>2024-01-04T19:07:19</td>\n",
       "      <td>Taking a break after a little training session...</td>\n",
       "      <td>7</td>\n",
       "      <td>https://i.imgur.com/ZYvkkJl.jpg</td>\n",
       "      <td>imgur</td>\n",
       "    </tr>\n",
       "    <tr>\n",
       "      <th>0</th>\n",
       "      <td>zZ0NDm3-imgur</td>\n",
       "      <td>TinkerThinker42</td>\n",
       "      <td>2024-01-04T05:21:07</td>\n",
       "      <td>Welcome to Day 1078.\\n\\nToday in one sentence:...</td>\n",
       "      <td>2</td>\n",
       "      <td>https://i.imgur.com/zZ0NDm3.png</td>\n",
       "      <td>imgur</td>\n",
       "    </tr>\n",
       "    <tr>\n",
       "      <th>0</th>\n",
       "      <td>ZZqmxW1-imgur</td>\n",
       "      <td>hutaoimpact</td>\n",
       "      <td>2024-01-04T04:49:15</td>\n",
       "      <td>None</td>\n",
       "      <td>4</td>\n",
       "      <td>https://i.imgur.com/ZZqmxW1.jpg</td>\n",
       "      <td>imgur</td>\n",
       "    </tr>\n",
       "    <tr>\n",
       "      <th>0</th>\n",
       "      <td>zzUp4RU-imgur</td>\n",
       "      <td>cxmxxiii</td>\n",
       "      <td>2024-01-04T17:39:00</td>\n",
       "      <td>None</td>\n",
       "      <td>1</td>\n",
       "      <td>https://i.imgur.com/zzUp4RU.jpg</td>\n",
       "      <td>imgur</td>\n",
       "    </tr>\n",
       "  </tbody>\n",
       "</table>\n",
       "<p>2408 rows × 7 columns</p>\n",
       "</div>"
      ],
      "text/plain": [
       "        global_id            author         created_time  \\\n",
       "0   02Zyk8U-imgur      AzrielStrife  2024-01-04T21:13:08   \n",
       "0   04FNenk-imgur         Tinkywink  2024-01-05T00:33:49   \n",
       "0   0at1r90-imgur         linexnewt  2024-01-04T23:16:24   \n",
       "0   0BoiFPH-imgur           jensyao  2024-01-04T01:45:11   \n",
       "0   0BTHRI5-imgur  VanessaBludgeons  2024-01-05T06:54:57   \n",
       "..            ...               ...                  ...   \n",
       "0   ZYtYXRE-imgur           rybe390  2024-01-04T14:01:36   \n",
       "0   ZYvkkJl-imgur          monjamon  2024-01-04T19:07:19   \n",
       "0   zZ0NDm3-imgur   TinkerThinker42  2024-01-04T05:21:07   \n",
       "0   ZZqmxW1-imgur       hutaoimpact  2024-01-04T04:49:15   \n",
       "0   zzUp4RU-imgur          cxmxxiii  2024-01-04T17:39:00   \n",
       "\n",
       "                                                 desc score  \\\n",
       "0   The Fly https://youtu.be/ECFAMTEnvqw?si=s5tePl...     3   \n",
       "0                                                None     6   \n",
       "0                                      Music by Queen     4   \n",
       "0                                                None    -3   \n",
       "0                             Poster for the series V     3   \n",
       "..                                                ...   ...   \n",
       "0                                     Paint the brown    -1   \n",
       "0   Taking a break after a little training session...     7   \n",
       "0   Welcome to Day 1078.\\n\\nToday in one sentence:...     2   \n",
       "0                                                None     4   \n",
       "0                                                None     1   \n",
       "\n",
       "                                url source  \n",
       "0   https://i.imgur.com/02Zyk8U.jpg  imgur  \n",
       "0   https://i.imgur.com/04FNenk.jpg  imgur  \n",
       "0   https://i.imgur.com/0at1r90.jpg  imgur  \n",
       "0   https://i.imgur.com/0BoiFPH.jpg  imgur  \n",
       "0   https://i.imgur.com/0BTHRI5.jpg  imgur  \n",
       "..                              ...    ...  \n",
       "0   https://i.imgur.com/ZYtYXRE.jpg  imgur  \n",
       "0   https://i.imgur.com/ZYvkkJl.jpg  imgur  \n",
       "0   https://i.imgur.com/zZ0NDm3.png  imgur  \n",
       "0   https://i.imgur.com/ZZqmxW1.jpg  imgur  \n",
       "0   https://i.imgur.com/zzUp4RU.jpg  imgur  \n",
       "\n",
       "[2408 rows x 7 columns]"
      ]
     },
     "execution_count": 10,
     "metadata": {},
     "output_type": "execute_result"
    }
   ],
   "source": [
    "# Only original images\n",
    "\n",
    "df_eda_no_d"
   ]
  },
  {
   "cell_type": "code",
   "execution_count": 32,
   "id": "b53af08d",
   "metadata": {},
   "outputs": [
    {
     "data": {
      "image/png": "[encoded data removed]",
      "text/plain": [
       "<Figure size 720x720 with 1 Axes>"
      ]
     },
     "metadata": {
      "needs_background": "light"
     },
     "output_type": "display_data"
    }
   ],
   "source": [
    "plt.figure(figsize=(10,10))\n",
    "df_eda['source'].value_counts().plot(kind='bar')\n",
    "plt.xticks(rotation=0)\n",
    "plt.title(\"All images distribution\", size=15)\n",
    "plt.show()"
   ]
  },
  {
   "cell_type": "code",
   "execution_count": 30,
   "id": "ec2d2f9f",
   "metadata": {},
   "outputs": [
    {
     "data": {
      "image/png": "[encoded data removed]",
      "text/plain": [
       "<Figure size 720x720 with 1 Axes>"
      ]
     },
     "metadata": {
      "needs_background": "light"
     },
     "output_type": "display_data"
    }
   ],
   "source": [
    "plt.figure(figsize=(10,10))\n",
    "df_eda_no_d['source'].value_counts().plot(kind='bar')\n",
    "plt.xticks(rotation=0)\n",
    "plt.title(\"Original images distribution\", size=15)\n",
    "plt.show()"
   ]
  },
  {
   "cell_type": "markdown",
   "id": "6f3f915f",
   "metadata": {},
   "source": [
    "As we can see, Reddit dominates overall in the number of images, but most of them are duplicates. Imgur dominates in original images."
   ]
  },
  {
   "cell_type": "code",
   "execution_count": 33,
   "id": "6c27d24f",
   "metadata": {},
   "outputs": [],
   "source": [
    "desc_dict = {\"Non_none\":0,\n",
    "            \"None\":0}"
   ]
  },
  {
   "cell_type": "code",
   "execution_count": 38,
   "id": "db2a6f51",
   "metadata": {},
   "outputs": [],
   "source": [
    "for desc in df_eda_no_d['desc']:\n",
    "    if desc is None:\n",
    "        desc_dict[\"None\"] += 1\n",
    "    else:\n",
    "        desc_dict[\"Non_none\"] += 1"
   ]
  },
  {
   "cell_type": "code",
   "execution_count": 46,
   "id": "d92a38d5",
   "metadata": {},
   "outputs": [
    {
     "data": {
      "image/png": "[encoded data removed]",
      "text/plain": [
       "<Figure size 504x504 with 1 Axes>"
      ]
     },
     "metadata": {
      "needs_background": "light"
     },
     "output_type": "display_data"
    }
   ],
   "source": [
    "plt.figure(figsize=(7,7))\n",
    "plt.bar(*zip(*desc_dict.items()))\n",
    "plt.title(\"Actual descriptions to empty descriptions ratio\")\n",
    "plt.show()"
   ]
  },
  {
   "cell_type": "markdown",
   "id": "d4e24654",
   "metadata": {},
   "source": [
    "Now let us check the distribution of scores."
   ]
  },
  {
   "cell_type": "code",
   "execution_count": 128,
   "id": "caac01e8",
   "metadata": {},
   "outputs": [
    {
     "data": {
      "image/png": "[encoded data removed]",
      "text/plain": [
       "<Figure size 504x504 with 1 Axes>"
      ]
     },
     "metadata": {
      "needs_background": "light"
     },
     "output_type": "display_data"
    }
   ],
   "source": [
    "plt.figure(figsize=(7,7))\n",
    "df_eda_no_d['score'].hist()\n",
    "plt.title(\"Distribution of scores\")\n",
    "plt.grid(False)\n",
    "plt.xlabel(\"Score\", fontsize=12)\n",
    "plt.ylabel(\"Number of scores\", fontsize=12)\n",
    "plt.show()"
   ]
  },
  {
   "cell_type": "code",
   "execution_count": 211,
   "id": "79d51e65",
   "metadata": {},
   "outputs": [
    {
     "data": {
      "image/png": "[encoded data removed]",
      "text/plain": [
       "<Figure size 504x504 with 1 Axes>"
      ]
     },
     "metadata": {
      "needs_background": "light"
     },
     "output_type": "display_data"
    }
   ],
   "source": [
    "plt.figure(figsize=(7,7))\n",
    "df_eda_no_d[df_eda_no_d['score'] < 12]['score'].hist()\n",
    "plt.title(\"Distribution of scores for low scores\")\n",
    "plt.grid(False)\n",
    "plt.xlabel(\"Score\", fontsize=12)\n",
    "plt.ylabel(\"Number of scores\", fontsize=12)\n",
    "plt.show()"
   ]
  },
  {
   "cell_type": "markdown",
   "id": "3db8cbdf",
   "metadata": {},
   "source": [
    "Also listing some basic characteristics"
   ]
  },
  {
   "cell_type": "code",
   "execution_count": 48,
   "id": "b8a66c16",
   "metadata": {},
   "outputs": [
    {
     "data": {
      "text/plain": [
       "4682"
      ]
     },
     "execution_count": 48,
     "metadata": {},
     "output_type": "execute_result"
    }
   ],
   "source": [
    "max(df_eda_no_d['score'])"
   ]
  },
  {
   "cell_type": "code",
   "execution_count": 51,
   "id": "5c1c7bd7",
   "metadata": {},
   "outputs": [
    {
     "data": {
      "text/plain": [
       "-6"
      ]
     },
     "execution_count": 51,
     "metadata": {},
     "output_type": "execute_result"
    }
   ],
   "source": [
    "min(df_eda_no_d['score'])"
   ]
  },
  {
   "cell_type": "code",
   "execution_count": 50,
   "id": "ba32801f",
   "metadata": {},
   "outputs": [
    {
     "data": {
      "text/plain": [
       "17.92981727574751"
      ]
     },
     "execution_count": 50,
     "metadata": {},
     "output_type": "execute_result"
    }
   ],
   "source": [
    "np.mean(df_eda_no_d['score'])"
   ]
  },
  {
   "cell_type": "code",
   "execution_count": 52,
   "id": "78dc41e9",
   "metadata": {},
   "outputs": [
    {
     "data": {
      "text/plain": [
       "3.0"
      ]
     },
     "execution_count": 52,
     "metadata": {},
     "output_type": "execute_result"
    }
   ],
   "source": [
    "np.median(df_eda_no_d['score'])"
   ]
  },
  {
   "cell_type": "markdown",
   "id": "9b3f5619",
   "metadata": {},
   "source": [
    "Distribution of repeats"
   ]
  },
  {
   "cell_type": "code",
   "execution_count": 101,
   "id": "b408a491",
   "metadata": {},
   "outputs": [
    {
     "data": {
      "image/png": "[encoded data removed]",
      "text/plain": [
       "<Figure size 504x504 with 1 Axes>"
      ]
     },
     "metadata": {
      "needs_background": "light"
     },
     "output_type": "display_data"
    }
   ],
   "source": [
    "plt.figure(figsize=(7,7))\n",
    "ax = plt.gca()\n",
    "df_eda.groupby([\"source\", \"global_id\"]).count()['author'].reset_index()[[\"source\", \"author\"]].boxplot(by=\"source\", ax=ax, patch_artist=True)\n",
    "plt.title(\"\")\n",
    "plt.show()"
   ]
  },
  {
   "cell_type": "code",
   "execution_count": 93,
   "id": "66ea09db",
   "metadata": {},
   "outputs": [
    {
     "name": "stdout",
     "output_type": "stream",
     "text": [
      "The maximal number of repeats: 3017\n"
     ]
    }
   ],
   "source": [
    "max_eda = max(df_eda.groupby([\"source\", \"global_id\"]).count()['author'])\n",
    "print(f\"The maximal number of repeats: {max_eda}\")"
   ]
  },
  {
   "cell_type": "code",
   "execution_count": 127,
   "id": "747fec3b",
   "metadata": {},
   "outputs": [
    {
     "data": {
      "image/png": "[encoded data removed]",
      "text/plain": [
       "<Figure size 504x504 with 1 Axes>"
      ]
     },
     "metadata": {
      "needs_background": "light"
     },
     "output_type": "display_data"
    }
   ],
   "source": [
    "plt.figure(figsize=(7,7))\n",
    "ax = plt.gca()\n",
    "df_eda_no_d.groupby('author').count()['global_id'].reset_index().hist(ax=ax)\n",
    "plt.title(\"Distribution of posts by author\", fontsize=15)\n",
    "plt.xlabel(\"Number of posts\", fontsize=12)\n",
    "plt.ylabel(\"Number of authors\", fontsize=12)\n",
    "plt.grid(False)\n",
    "plt.show()"
   ]
  },
  {
   "cell_type": "code",
   "execution_count": 124,
   "id": "7280f3cd",
   "metadata": {},
   "outputs": [],
   "source": [
    "author_post_dist = df_eda_no_d.groupby('author').count()['global_id']"
   ]
  },
  {
   "cell_type": "code",
   "execution_count": 125,
   "id": "9e9ed36d",
   "metadata": {},
   "outputs": [
    {
     "name": "stdout",
     "output_type": "stream",
     "text": [
      "Maximal number of posts by author: 27\n"
     ]
    }
   ],
   "source": [
    "print(f\"Maximal number of posts by author: {max(author_post_dist)}\")"
   ]
  },
  {
   "cell_type": "code",
   "execution_count": 126,
   "id": "9e94d0d9",
   "metadata": {},
   "outputs": [
    {
     "data": {
      "text/plain": [
       "'Crazyzaku'"
      ]
     },
     "execution_count": 126,
     "metadata": {},
     "output_type": "execute_result"
    }
   ],
   "source": [
    "df_eda_no_d.groupby('author').count()[author_post_dist == max(author_post_dist)].index[0]"
   ]
  },
  {
   "cell_type": "code",
   "execution_count": 150,
   "id": "d64b5e76",
   "metadata": {},
   "outputs": [],
   "source": [
    "df_desc = df_eda_no_d['desc'].apply(lambda x: len(x) if x is not None else 0)"
   ]
  },
  {
   "cell_type": "code",
   "execution_count": 149,
   "id": "e943a8a7",
   "metadata": {},
   "outputs": [
    {
     "data": {
      "image/png": "[encoded data removed]",
      "text/plain": [
       "<Figure size 504x504 with 1 Axes>"
      ]
     },
     "metadata": {
      "needs_background": "light"
     },
     "output_type": "display_data"
    }
   ],
   "source": [
    "plt.figure(figsize=(7,7))\n",
    "\n",
    "plt.hist(df_desc)\n",
    "plt.title(\"Description length distribution\", fontsize=15)\n",
    "plt.xlabel(\"Sentence length\", fontsize=12)\n",
    "plt.ylabel(\"Count\", fontsize=12)\n",
    "plt.show()"
   ]
  },
  {
   "cell_type": "code",
   "execution_count": 158,
   "id": "43da8017",
   "metadata": {},
   "outputs": [],
   "source": [
    "smaller_df_desc = []\n",
    "for i in df_desc:\n",
    "    if i != 0 and i < 500:\n",
    "        smaller_df_desc.append(i)"
   ]
  },
  {
   "cell_type": "code",
   "execution_count": 160,
   "id": "747e55fc",
   "metadata": {},
   "outputs": [
    {
     "data": {
      "image/png": "[encoded data removed]",
      "text/plain": [
       "<Figure size 504x504 with 1 Axes>"
      ]
     },
     "metadata": {
      "needs_background": "light"
     },
     "output_type": "display_data"
    }
   ],
   "source": [
    "plt.figure(figsize=(7,7))\n",
    "plt.hist(smaller_df_desc)\n",
    "plt.title(\"Description length distribution for shorter descriptions\", fontsize=15)\n",
    "plt.xlabel(\"Sentence length\", fontsize=12)\n",
    "plt.ylabel(\"Count\", fontsize=12)\n",
    "plt.show()"
   ]
  },
  {
   "cell_type": "code",
   "execution_count": 162,
   "id": "60c6f044",
   "metadata": {},
   "outputs": [
    {
     "name": "stdout",
     "output_type": "stream",
     "text": [
      "Longest description length: 3666\n"
     ]
    }
   ],
   "source": [
    "print(f\"Longest description length: {max(df_desc)}\")"
   ]
  },
  {
   "cell_type": "markdown",
   "id": "9e85caea",
   "metadata": {},
   "source": [
    "Let us print the file format distributions"
   ]
  },
  {
   "cell_type": "code",
   "execution_count": 172,
   "id": "bcb39e1a",
   "metadata": {},
   "outputs": [],
   "source": [
    "format_desc = {}\n",
    "\n",
    "for url in df_eda_no_d['url']:\n",
    "    if len(url.split('.')[-1])>4:\n",
    "        try:\n",
    "            format_desc[\"none\"] += 1\n",
    "        except:\n",
    "            format_desc[\"none\"] = 1\n",
    "    else:\n",
    "        try:\n",
    "            format_desc[url.split('.')[-1]] += 1\n",
    "        except:\n",
    "            format_desc[url.split('.')[-1]] = 1"
   ]
  },
  {
   "cell_type": "code",
   "execution_count": 176,
   "id": "91f0d171",
   "metadata": {},
   "outputs": [
    {
     "data": {
      "text/plain": [
       "{'jpg': 1945, 'png': 435, 'none': 7, 'jpeg': 12, 'gif': 8, 'webp': 1}"
      ]
     },
     "execution_count": 176,
     "metadata": {},
     "output_type": "execute_result"
    }
   ],
   "source": [
    "format_desc"
   ]
  },
  {
   "cell_type": "markdown",
   "id": "bba1a44d",
   "metadata": {},
   "source": [
    "Let us also explore the sizes of images."
   ]
  },
  {
   "cell_type": "code",
   "execution_count": 195,
   "id": "cf367ab0",
   "metadata": {},
   "outputs": [],
   "source": [
    "import requests\n",
    "from PIL import Image\n",
    "import io\n",
    "\n",
    "headers = {\n",
    "    'user-agent': 'Mozilla/5.0 (Windows NT 10.0; Win64; x64) AppleWebKit/537.36 (KHTML, like Gecko) Chrome/55.0.2883.87 Safari/537.36'\n",
    "}"
   ]
  },
  {
   "cell_type": "code",
   "execution_count": 201,
   "id": "7acec0d7",
   "metadata": {},
   "outputs": [],
   "source": [
    "def get_img_size_from_link(link):\n",
    "    try:\n",
    "        img_page = requests.get(link, headers=headers)\n",
    "        if img_page.status_code != 200:\n",
    "            raise Exception(\"Couldn't get image\")\n",
    "        image_file = io.BytesIO(img_page.content)\n",
    "        image = Image.open(image_file)\n",
    "        return image.size\n",
    "\n",
    "    except Exception as e:\n",
    "        return None "
   ]
  },
  {
   "cell_type": "code",
   "execution_count": 216,
   "id": "13da6ec6",
   "metadata": {},
   "outputs": [],
   "source": [
    "sizes = []\n",
    "colors = []\n",
    "color_dict = {\"imgur\":\"lightgreen\",\n",
    "             \"reddit\":\"red\",\n",
    "             \"tumblr\":\"lightblue\"}\n",
    "for i, url in enumerate(df_eda_no_d['url']):\n",
    "    size = get_img_size_from_link(url)\n",
    "    if size is not None:\n",
    "        sizes.append(size)\n",
    "        colors.append(color_dict[df_eda_no_d['source'][i]])"
   ]
  },
  {
   "cell_type": "code",
   "execution_count": 221,
   "id": "94a6f45f",
   "metadata": {},
   "outputs": [
    {
     "data": {
      "image/png": "[encoded data removed]",
      "text/plain": [
       "<Figure size 576x576 with 1 Axes>"
      ]
     },
     "metadata": {
      "needs_background": "light"
     },
     "output_type": "display_data"
    }
   ],
   "source": [
    "plt.figure(figsize=(8,8))\n",
    "plt.scatter(np.array(sizes).T[0], np.array(sizes).T[1])\n",
    "plt.title(\"Image sizes\", fontsize=15)\n",
    "plt.xlabel(\"Width\", fontsize=12)\n",
    "plt.ylabel(\"Height\", fontsize=12)\n",
    "\n",
    "plt.show()"
   ]
  },
  {
   "cell_type": "code",
   "execution_count": 224,
   "id": "de4d8763",
   "metadata": {},
   "outputs": [],
   "source": [
    "img_reddit = np.array(sizes)[np.where(np.array(colors)==\"red\")]\n",
    "img_imgur = np.array(sizes)[np.where(np.array(colors)==\"lightgreen\")]\n",
    "img_tumblr = np.array(sizes)[np.where(np.array(colors)==\"lightblue\")]"
   ]
  },
  {
   "cell_type": "code",
   "execution_count": 233,
   "id": "85d07f60",
   "metadata": {},
   "outputs": [
    {
     "data": {
      "image/png": "[encoded data removed]",
      "text/plain": [
       "<Figure size 1440x576 with 3 Axes>"
      ]
     },
     "metadata": {
      "needs_background": "light"
     },
     "output_type": "display_data"
    }
   ],
   "source": [
    "fig, ax = plt.subplots(1, 3, figsize=(20,8), sharey=True, sharex=True)\n",
    "ax[0].scatter(img_reddit.T[0], img_reddit.T[1], c='red')\n",
    "ax[0].set_title(\"Image sizes of Reddit images\", fontsize=20)\n",
    "ax[0].set_xlabel(\"Width\", fontsize=15)\n",
    "ax[0].set_ylabel(\"Height\", fontsize=15)\n",
    "\n",
    "ax[1].scatter(img_imgur.T[0], img_imgur.T[1], c='lightgreen')\n",
    "ax[1].set_title(\"Image sizes of Imgur images\", fontsize=20)\n",
    "ax[1].set_xlabel(\"Width\", fontsize=15)\n",
    "\n",
    "ax[2].scatter(img_tumblr.T[0], img_tumblr.T[1], c='lightblue')\n",
    "ax[2].set_title(\"Image sizes of Tumblr images\", fontsize=20)\n",
    "ax[2].set_xlabel(\"Width\", fontsize=15)\n",
    "plt.show()"
   ]
  }
 ],
 "metadata": {
  "kernelspec": {
   "display_name": "Python 3 (ipykernel)",
   "language": "python",
   "name": "python3"
  },
  "language_info": {
   "codemirror_mode": {
    "name": "ipython",
    "version": 3
   },
   "file_extension": ".py",
   "mimetype": "text/x-python",
   "name": "python",
   "nbconvert_exporter": "python",
   "pygments_lexer": "ipython3",
   "version": "3.9.12"
  }
 },
 "nbformat": 4,
 "nbformat_minor": 5
}
